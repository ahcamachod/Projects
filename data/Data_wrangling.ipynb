{
 "cells": [
  {
   "cell_type": "markdown",
   "metadata": {},
   "source": [
    "# Importing Libraries"
   ]
  },
  {
   "cell_type": "code",
   "execution_count": 1,
   "metadata": {},
   "outputs": [],
   "source": [
    "import pandas as pd\n",
    "import re\n",
    "import numpy as np\n",
    "from IPython.display import display"
   ]
  },
  {
   "cell_type": "markdown",
   "metadata": {},
   "source": [
    "# Reading and Cleaning CSV"
   ]
  },
  {
   "cell_type": "code",
   "execution_count": 2,
   "metadata": {},
   "outputs": [
    {
     "data": {
      "text/plain": [
       "'C:\\\\Users\\\\Alvaro Camacho\\\\Desktop\\\\Ironhack\\\\Week 2\\\\Project_Week2\\\\Project2-IRONHACK'"
      ]
     },
     "execution_count": 2,
     "metadata": {},
     "output_type": "execute_result"
    }
   ],
   "source": [
    "pwd"
   ]
  },
  {
   "cell_type": "code",
   "execution_count": 3,
   "metadata": {},
   "outputs": [
    {
     "data": {
      "text/html": [
       "<div>\n",
       "<style scoped>\n",
       "    .dataframe tbody tr th:only-of-type {\n",
       "        vertical-align: middle;\n",
       "    }\n",
       "\n",
       "    .dataframe tbody tr th {\n",
       "        vertical-align: top;\n",
       "    }\n",
       "\n",
       "    .dataframe thead th {\n",
       "        text-align: right;\n",
       "    }\n",
       "</style>\n",
       "<table border=\"1\" class=\"dataframe\">\n",
       "  <thead>\n",
       "    <tr style=\"text-align: right;\">\n",
       "      <th></th>\n",
       "      <th>Case Number</th>\n",
       "      <th>Date</th>\n",
       "      <th>Year</th>\n",
       "      <th>Type</th>\n",
       "      <th>Country</th>\n",
       "      <th>Area</th>\n",
       "      <th>Location</th>\n",
       "      <th>Activity</th>\n",
       "      <th>Name</th>\n",
       "      <th>Sex</th>\n",
       "      <th>...</th>\n",
       "      <th>Species</th>\n",
       "      <th>Investigator or Source</th>\n",
       "      <th>pdf</th>\n",
       "      <th>href formula</th>\n",
       "      <th>href</th>\n",
       "      <th>Case Number.1</th>\n",
       "      <th>Case Number.2</th>\n",
       "      <th>original order</th>\n",
       "      <th>Unnamed: 22</th>\n",
       "      <th>Unnamed: 23</th>\n",
       "    </tr>\n",
       "  </thead>\n",
       "  <tbody>\n",
       "    <tr>\n",
       "      <td>0</td>\n",
       "      <td>2018.06.25</td>\n",
       "      <td>25-Jun-2018</td>\n",
       "      <td>2018.0</td>\n",
       "      <td>Boating</td>\n",
       "      <td>USA</td>\n",
       "      <td>California</td>\n",
       "      <td>Oceanside, San Diego County</td>\n",
       "      <td>Paddling</td>\n",
       "      <td>Julie Wolfe</td>\n",
       "      <td>F</td>\n",
       "      <td>...</td>\n",
       "      <td>White shark</td>\n",
       "      <td>R. Collier, GSAF</td>\n",
       "      <td>2018.06.25-Wolfe.pdf</td>\n",
       "      <td>http://sharkattackfile.net/spreadsheets/pdf_di...</td>\n",
       "      <td>http://sharkattackfile.net/spreadsheets/pdf_di...</td>\n",
       "      <td>2018.06.25</td>\n",
       "      <td>2018.06.25</td>\n",
       "      <td>6303.0</td>\n",
       "      <td>NaN</td>\n",
       "      <td>NaN</td>\n",
       "    </tr>\n",
       "    <tr>\n",
       "      <td>1</td>\n",
       "      <td>2018.06.18</td>\n",
       "      <td>18-Jun-2018</td>\n",
       "      <td>2018.0</td>\n",
       "      <td>Unprovoked</td>\n",
       "      <td>USA</td>\n",
       "      <td>Georgia</td>\n",
       "      <td>St. Simon Island, Glynn County</td>\n",
       "      <td>Standing</td>\n",
       "      <td>Adyson McNeely</td>\n",
       "      <td>F</td>\n",
       "      <td>...</td>\n",
       "      <td>NaN</td>\n",
       "      <td>K.McMurray, TrackingSharks.com</td>\n",
       "      <td>2018.06.18-McNeely.pdf</td>\n",
       "      <td>http://sharkattackfile.net/spreadsheets/pdf_di...</td>\n",
       "      <td>http://sharkattackfile.net/spreadsheets/pdf_di...</td>\n",
       "      <td>2018.06.18</td>\n",
       "      <td>2018.06.18</td>\n",
       "      <td>6302.0</td>\n",
       "      <td>NaN</td>\n",
       "      <td>NaN</td>\n",
       "    </tr>\n",
       "    <tr>\n",
       "      <td>2</td>\n",
       "      <td>2018.06.09</td>\n",
       "      <td>09-Jun-2018</td>\n",
       "      <td>2018.0</td>\n",
       "      <td>Invalid</td>\n",
       "      <td>USA</td>\n",
       "      <td>Hawaii</td>\n",
       "      <td>Habush, Oahu</td>\n",
       "      <td>Surfing</td>\n",
       "      <td>John Denges</td>\n",
       "      <td>M</td>\n",
       "      <td>...</td>\n",
       "      <td>NaN</td>\n",
       "      <td>K.McMurray, TrackingSharks.com</td>\n",
       "      <td>2018.06.09-Denges.pdf</td>\n",
       "      <td>http://sharkattackfile.net/spreadsheets/pdf_di...</td>\n",
       "      <td>http://sharkattackfile.net/spreadsheets/pdf_di...</td>\n",
       "      <td>2018.06.09</td>\n",
       "      <td>2018.06.09</td>\n",
       "      <td>6301.0</td>\n",
       "      <td>NaN</td>\n",
       "      <td>NaN</td>\n",
       "    </tr>\n",
       "    <tr>\n",
       "      <td>3</td>\n",
       "      <td>2018.06.08</td>\n",
       "      <td>08-Jun-2018</td>\n",
       "      <td>2018.0</td>\n",
       "      <td>Unprovoked</td>\n",
       "      <td>AUSTRALIA</td>\n",
       "      <td>New South Wales</td>\n",
       "      <td>Arrawarra Headland</td>\n",
       "      <td>Surfing</td>\n",
       "      <td>male</td>\n",
       "      <td>M</td>\n",
       "      <td>...</td>\n",
       "      <td>2 m shark</td>\n",
       "      <td>B. Myatt, GSAF</td>\n",
       "      <td>2018.06.08-Arrawarra.pdf</td>\n",
       "      <td>http://sharkattackfile.net/spreadsheets/pdf_di...</td>\n",
       "      <td>http://sharkattackfile.net/spreadsheets/pdf_di...</td>\n",
       "      <td>2018.06.08</td>\n",
       "      <td>2018.06.08</td>\n",
       "      <td>6300.0</td>\n",
       "      <td>NaN</td>\n",
       "      <td>NaN</td>\n",
       "    </tr>\n",
       "    <tr>\n",
       "      <td>4</td>\n",
       "      <td>2018.06.04</td>\n",
       "      <td>04-Jun-2018</td>\n",
       "      <td>2018.0</td>\n",
       "      <td>Provoked</td>\n",
       "      <td>MEXICO</td>\n",
       "      <td>Colima</td>\n",
       "      <td>La Ticla</td>\n",
       "      <td>Free diving</td>\n",
       "      <td>Gustavo Ramos</td>\n",
       "      <td>M</td>\n",
       "      <td>...</td>\n",
       "      <td>Tiger shark, 3m</td>\n",
       "      <td>A .Kipper</td>\n",
       "      <td>2018.06.04-Ramos.pdf</td>\n",
       "      <td>http://sharkattackfile.net/spreadsheets/pdf_di...</td>\n",
       "      <td>http://sharkattackfile.net/spreadsheets/pdf_di...</td>\n",
       "      <td>2018.06.04</td>\n",
       "      <td>2018.06.04</td>\n",
       "      <td>6299.0</td>\n",
       "      <td>NaN</td>\n",
       "      <td>NaN</td>\n",
       "    </tr>\n",
       "  </tbody>\n",
       "</table>\n",
       "<p>5 rows × 24 columns</p>\n",
       "</div>"
      ],
      "text/plain": [
       "  Case Number         Date    Year        Type    Country             Area  \\\n",
       "0  2018.06.25  25-Jun-2018  2018.0     Boating        USA       California   \n",
       "1  2018.06.18  18-Jun-2018  2018.0  Unprovoked        USA          Georgia   \n",
       "2  2018.06.09  09-Jun-2018  2018.0     Invalid        USA           Hawaii   \n",
       "3  2018.06.08  08-Jun-2018  2018.0  Unprovoked  AUSTRALIA  New South Wales   \n",
       "4  2018.06.04  04-Jun-2018  2018.0    Provoked     MEXICO           Colima   \n",
       "\n",
       "                         Location     Activity             Name Sex   ...  \\\n",
       "0     Oceanside, San Diego County     Paddling      Julie Wolfe    F  ...   \n",
       "1  St. Simon Island, Glynn County     Standing  Adyson McNeely     F  ...   \n",
       "2                    Habush, Oahu      Surfing      John Denges    M  ...   \n",
       "3              Arrawarra Headland      Surfing             male    M  ...   \n",
       "4                        La Ticla  Free diving   Gustavo Ramos     M  ...   \n",
       "\n",
       "          Species           Investigator or Source                       pdf  \\\n",
       "0      White shark                R. Collier, GSAF      2018.06.25-Wolfe.pdf   \n",
       "1              NaN  K.McMurray, TrackingSharks.com    2018.06.18-McNeely.pdf   \n",
       "2              NaN  K.McMurray, TrackingSharks.com     2018.06.09-Denges.pdf   \n",
       "3        2 m shark                  B. Myatt, GSAF  2018.06.08-Arrawarra.pdf   \n",
       "4  Tiger shark, 3m                       A .Kipper      2018.06.04-Ramos.pdf   \n",
       "\n",
       "                                        href formula  \\\n",
       "0  http://sharkattackfile.net/spreadsheets/pdf_di...   \n",
       "1  http://sharkattackfile.net/spreadsheets/pdf_di...   \n",
       "2  http://sharkattackfile.net/spreadsheets/pdf_di...   \n",
       "3  http://sharkattackfile.net/spreadsheets/pdf_di...   \n",
       "4  http://sharkattackfile.net/spreadsheets/pdf_di...   \n",
       "\n",
       "                                                href Case Number.1  \\\n",
       "0  http://sharkattackfile.net/spreadsheets/pdf_di...    2018.06.25   \n",
       "1  http://sharkattackfile.net/spreadsheets/pdf_di...    2018.06.18   \n",
       "2  http://sharkattackfile.net/spreadsheets/pdf_di...    2018.06.09   \n",
       "3  http://sharkattackfile.net/spreadsheets/pdf_di...    2018.06.08   \n",
       "4  http://sharkattackfile.net/spreadsheets/pdf_di...    2018.06.04   \n",
       "\n",
       "  Case Number.2 original order Unnamed: 22 Unnamed: 23  \n",
       "0    2018.06.25         6303.0         NaN         NaN  \n",
       "1    2018.06.18         6302.0         NaN         NaN  \n",
       "2    2018.06.09         6301.0         NaN         NaN  \n",
       "3    2018.06.08         6300.0         NaN         NaN  \n",
       "4    2018.06.04         6299.0         NaN         NaN  \n",
       "\n",
       "[5 rows x 24 columns]"
      ]
     },
     "execution_count": 3,
     "metadata": {},
     "output_type": "execute_result"
    }
   ],
   "source": [
    "shark_attack = pd.read_csv('C:\\\\Users\\\\Alvaro Camacho\\\\Desktop\\\\Ironhack\\\\Week 2\\\\Project_Week2\\\\Project2-IRONHACK\\\\data/attacks.csv', encoding='latin')\n",
    "shark_attack.head()"
   ]
  },
  {
   "cell_type": "markdown",
   "metadata": {},
   "source": [
    "### Drop columns: 'Unnamed: 22', 'Unnamed: 23', 'href formula', 'pdf' and duplicated rows"
   ]
  },
  {
   "cell_type": "code",
   "execution_count": 4,
   "metadata": {},
   "outputs": [],
   "source": [
    "shark_attack = shark_attack.drop(columns=['Unnamed: 22', 'Unnamed: 23', 'href formula', 'pdf']).drop_duplicates()"
   ]
  },
  {
   "cell_type": "markdown",
   "metadata": {},
   "source": [
    "### Removing rows that have 18 or more null values:"
   ]
  },
  {
   "cell_type": "code",
   "execution_count": 5,
   "metadata": {},
   "outputs": [],
   "source": [
    "shark_attack = shark_attack.loc[~(shark_attack.isnull().sum(axis=1) >= 18), :]"
   ]
  },
  {
   "cell_type": "code",
   "execution_count": 6,
   "metadata": {},
   "outputs": [],
   "source": [
    "pd.set_option('display.max_columns', None)\n",
    "np.set_printoptions(threshold=np.inf)"
   ]
  },
  {
   "cell_type": "markdown",
   "metadata": {},
   "source": [
    "### Removing 'Case Number.1' and 'Case Number.2' columns, because they are duplicated"
   ]
  },
  {
   "cell_type": "code",
   "execution_count": 7,
   "metadata": {},
   "outputs": [],
   "source": [
    "shark_attack.drop(columns=['Case Number.1', 'Case Number.2'], inplace=True)"
   ]
  },
  {
   "cell_type": "markdown",
   "metadata": {},
   "source": [
    "### Removing 'Investigator or Source' column, because it won't be used for the analysis of the dataset."
   ]
  },
  {
   "cell_type": "code",
   "execution_count": 8,
   "metadata": {},
   "outputs": [],
   "source": [
    "shark_attack.drop(columns='Investigator or Source', inplace=True)"
   ]
  },
  {
   "cell_type": "markdown",
   "metadata": {},
   "source": [
    "### Removing 'original order' column, because it won't be useful for the anlysis."
   ]
  },
  {
   "cell_type": "code",
   "execution_count": 9,
   "metadata": {},
   "outputs": [],
   "source": [
    "shark_attack.drop(columns='original order', inplace=True)"
   ]
  },
  {
   "cell_type": "code",
   "execution_count": 10,
   "metadata": {},
   "outputs": [
    {
     "data": {
      "text/html": [
       "<div>\n",
       "<style scoped>\n",
       "    .dataframe tbody tr th:only-of-type {\n",
       "        vertical-align: middle;\n",
       "    }\n",
       "\n",
       "    .dataframe tbody tr th {\n",
       "        vertical-align: top;\n",
       "    }\n",
       "\n",
       "    .dataframe thead th {\n",
       "        text-align: right;\n",
       "    }\n",
       "</style>\n",
       "<table border=\"1\" class=\"dataframe\">\n",
       "  <thead>\n",
       "    <tr style=\"text-align: right;\">\n",
       "      <th></th>\n",
       "      <th>Case Number</th>\n",
       "      <th>Date</th>\n",
       "      <th>Year</th>\n",
       "      <th>Type</th>\n",
       "      <th>Country</th>\n",
       "      <th>Area</th>\n",
       "      <th>Location</th>\n",
       "      <th>Activity</th>\n",
       "      <th>Name</th>\n",
       "      <th>Sex</th>\n",
       "      <th>Age</th>\n",
       "      <th>Injury</th>\n",
       "      <th>Fatal (Y/N)</th>\n",
       "      <th>Time</th>\n",
       "      <th>Species</th>\n",
       "      <th>href</th>\n",
       "    </tr>\n",
       "  </thead>\n",
       "  <tbody>\n",
       "    <tr>\n",
       "      <td>0</td>\n",
       "      <td>2018.06.25</td>\n",
       "      <td>25-Jun-2018</td>\n",
       "      <td>2018.0</td>\n",
       "      <td>Boating</td>\n",
       "      <td>USA</td>\n",
       "      <td>California</td>\n",
       "      <td>Oceanside, San Diego County</td>\n",
       "      <td>Paddling</td>\n",
       "      <td>Julie Wolfe</td>\n",
       "      <td>F</td>\n",
       "      <td>57</td>\n",
       "      <td>No injury to occupant, outrigger canoe and pad...</td>\n",
       "      <td>N</td>\n",
       "      <td>18h00</td>\n",
       "      <td>White shark</td>\n",
       "      <td>http://sharkattackfile.net/spreadsheets/pdf_di...</td>\n",
       "    </tr>\n",
       "    <tr>\n",
       "      <td>1</td>\n",
       "      <td>2018.06.18</td>\n",
       "      <td>18-Jun-2018</td>\n",
       "      <td>2018.0</td>\n",
       "      <td>Unprovoked</td>\n",
       "      <td>USA</td>\n",
       "      <td>Georgia</td>\n",
       "      <td>St. Simon Island, Glynn County</td>\n",
       "      <td>Standing</td>\n",
       "      <td>Adyson McNeely</td>\n",
       "      <td>F</td>\n",
       "      <td>11</td>\n",
       "      <td>Minor injury to left thigh</td>\n",
       "      <td>N</td>\n",
       "      <td>14h00  -15h00</td>\n",
       "      <td>NaN</td>\n",
       "      <td>http://sharkattackfile.net/spreadsheets/pdf_di...</td>\n",
       "    </tr>\n",
       "    <tr>\n",
       "      <td>2</td>\n",
       "      <td>2018.06.09</td>\n",
       "      <td>09-Jun-2018</td>\n",
       "      <td>2018.0</td>\n",
       "      <td>Invalid</td>\n",
       "      <td>USA</td>\n",
       "      <td>Hawaii</td>\n",
       "      <td>Habush, Oahu</td>\n",
       "      <td>Surfing</td>\n",
       "      <td>John Denges</td>\n",
       "      <td>M</td>\n",
       "      <td>48</td>\n",
       "      <td>Injury to left lower leg from surfboard skeg</td>\n",
       "      <td>N</td>\n",
       "      <td>07h45</td>\n",
       "      <td>NaN</td>\n",
       "      <td>http://sharkattackfile.net/spreadsheets/pdf_di...</td>\n",
       "    </tr>\n",
       "    <tr>\n",
       "      <td>3</td>\n",
       "      <td>2018.06.08</td>\n",
       "      <td>08-Jun-2018</td>\n",
       "      <td>2018.0</td>\n",
       "      <td>Unprovoked</td>\n",
       "      <td>AUSTRALIA</td>\n",
       "      <td>New South Wales</td>\n",
       "      <td>Arrawarra Headland</td>\n",
       "      <td>Surfing</td>\n",
       "      <td>male</td>\n",
       "      <td>M</td>\n",
       "      <td>NaN</td>\n",
       "      <td>Minor injury to lower leg</td>\n",
       "      <td>N</td>\n",
       "      <td>NaN</td>\n",
       "      <td>2 m shark</td>\n",
       "      <td>http://sharkattackfile.net/spreadsheets/pdf_di...</td>\n",
       "    </tr>\n",
       "    <tr>\n",
       "      <td>4</td>\n",
       "      <td>2018.06.04</td>\n",
       "      <td>04-Jun-2018</td>\n",
       "      <td>2018.0</td>\n",
       "      <td>Provoked</td>\n",
       "      <td>MEXICO</td>\n",
       "      <td>Colima</td>\n",
       "      <td>La Ticla</td>\n",
       "      <td>Free diving</td>\n",
       "      <td>Gustavo Ramos</td>\n",
       "      <td>M</td>\n",
       "      <td>NaN</td>\n",
       "      <td>Lacerations to leg &amp; hand shark PROVOKED INCIDENT</td>\n",
       "      <td>N</td>\n",
       "      <td>NaN</td>\n",
       "      <td>Tiger shark, 3m</td>\n",
       "      <td>http://sharkattackfile.net/spreadsheets/pdf_di...</td>\n",
       "    </tr>\n",
       "  </tbody>\n",
       "</table>\n",
       "</div>"
      ],
      "text/plain": [
       "  Case Number         Date    Year        Type    Country             Area  \\\n",
       "0  2018.06.25  25-Jun-2018  2018.0     Boating        USA       California   \n",
       "1  2018.06.18  18-Jun-2018  2018.0  Unprovoked        USA          Georgia   \n",
       "2  2018.06.09  09-Jun-2018  2018.0     Invalid        USA           Hawaii   \n",
       "3  2018.06.08  08-Jun-2018  2018.0  Unprovoked  AUSTRALIA  New South Wales   \n",
       "4  2018.06.04  04-Jun-2018  2018.0    Provoked     MEXICO           Colima   \n",
       "\n",
       "                         Location     Activity             Name Sex   Age  \\\n",
       "0     Oceanside, San Diego County     Paddling      Julie Wolfe    F   57   \n",
       "1  St. Simon Island, Glynn County     Standing  Adyson McNeely     F   11   \n",
       "2                    Habush, Oahu      Surfing      John Denges    M   48   \n",
       "3              Arrawarra Headland      Surfing             male    M  NaN   \n",
       "4                        La Ticla  Free diving   Gustavo Ramos     M  NaN   \n",
       "\n",
       "                                              Injury Fatal (Y/N)  \\\n",
       "0  No injury to occupant, outrigger canoe and pad...           N   \n",
       "1                         Minor injury to left thigh           N   \n",
       "2       Injury to left lower leg from surfboard skeg           N   \n",
       "3                          Minor injury to lower leg           N   \n",
       "4  Lacerations to leg & hand shark PROVOKED INCIDENT           N   \n",
       "\n",
       "            Time         Species   \\\n",
       "0          18h00      White shark   \n",
       "1  14h00  -15h00              NaN   \n",
       "2          07h45              NaN   \n",
       "3            NaN        2 m shark   \n",
       "4            NaN  Tiger shark, 3m   \n",
       "\n",
       "                                                href  \n",
       "0  http://sharkattackfile.net/spreadsheets/pdf_di...  \n",
       "1  http://sharkattackfile.net/spreadsheets/pdf_di...  \n",
       "2  http://sharkattackfile.net/spreadsheets/pdf_di...  \n",
       "3  http://sharkattackfile.net/spreadsheets/pdf_di...  \n",
       "4  http://sharkattackfile.net/spreadsheets/pdf_di...  "
      ]
     },
     "execution_count": 10,
     "metadata": {},
     "output_type": "execute_result"
    }
   ],
   "source": [
    "shark_attack.head()"
   ]
  },
  {
   "cell_type": "markdown",
   "metadata": {},
   "source": [
    "# Categorizing body parts"
   ]
  },
  {
   "cell_type": "code",
   "execution_count": 11,
   "metadata": {},
   "outputs": [],
   "source": [
    "def list_to_pattern(lst : list):\n",
    "    '''\n",
    "    The function receives a list of body part words and returns a regex pattern.\n",
    "    \n",
    "    Parameters:\n",
    "    lst (list): List of body part words\n",
    "\n",
    "    Returns:\n",
    "    string: Returning regex pattern\n",
    "    '''\n",
    "    \n",
    "    pattern = ''\n",
    "    for word in lst:\n",
    "        pattern += word + '|'\n",
    "    pattern = pattern[:-1]\n",
    "    return pattern"
   ]
  },
  {
   "cell_type": "code",
   "execution_count": 12,
   "metadata": {},
   "outputs": [],
   "source": [
    "arm = ['hand', 'arm', 'forearm', 'wrist', 'shoulder', 'elbow', 'finger', 'thumb']\n",
    "leg = ['ankle','knee','foot','feet','thigh','l?eg','calf','buttock','pelvis', 'shin', 'heel', 'toe']\n",
    "head = ['head','neck','face', 'ear', 'nose', 'mouth', 'scalp']\n",
    "torso = ['torso','chest', 'back', 'abdomen', 'hip', 'flank']\n",
    "fatal = ['fatal', 'death', 'kill']\n",
    "no_injury = ['no in?j?ur[iy]e?s?']\n",
    "hoax = ['hoax', 'Erroneously']"
   ]
  },
  {
   "cell_type": "markdown",
   "metadata": {},
   "source": [
    "### Transforming the body parts lists to regular expressions:"
   ]
  },
  {
   "cell_type": "code",
   "execution_count": 13,
   "metadata": {},
   "outputs": [],
   "source": [
    "arm_pattern = list_to_pattern(arm)\n",
    "leg_pattern = list_to_pattern(leg)\n",
    "head_pattern = list_to_pattern(head)\n",
    "torso_pattern = list_to_pattern(torso)\n",
    "fatal_pattern = list_to_pattern(fatal)\n",
    "no_injury_pattern = list_to_pattern(no_injury)\n",
    "hoax_pattern = list_to_pattern(hoax)"
   ]
  },
  {
   "cell_type": "markdown",
   "metadata": {},
   "source": [
    "### Creating new columns and setting their values to 0:"
   ]
  },
  {
   "cell_type": "code",
   "execution_count": 14,
   "metadata": {},
   "outputs": [],
   "source": [
    "shark_attack['Arm'] = 0\n",
    "shark_attack['Leg'] = 0\n",
    "shark_attack['Head'] = 0\n",
    "shark_attack['Torso'] = 0\n",
    "shark_attack['Fatal'] = 0\n",
    "shark_attack['No_Injury'] = 0\n",
    "shark_attack['Hoax'] = 0"
   ]
  },
  {
   "cell_type": "markdown",
   "metadata": {},
   "source": [
    "### Counting how many occurrences per limb:"
   ]
  },
  {
   "cell_type": "code",
   "execution_count": 15,
   "metadata": {},
   "outputs": [],
   "source": [
    "l = -1\n",
    "\n",
    "for injury in shark_attack['Injury']:\n",
    "    a = f'{injury}'\n",
    "    lst_arm_parts = re.findall(arm_pattern, a, flags=re.I)\n",
    "    lst_leg_parts = re.findall(leg_pattern, a, flags=re.I)\n",
    "    lst_head_parts = re.findall(head_pattern, a, flags=re.I)\n",
    "    lst_torso_parts = re.findall(torso_pattern, a, flags=re.I)\n",
    "    lst_fatal = re.findall(fatal_pattern, a, flags=re.I)\n",
    "    lst_no_injury = re.findall(no_injury_pattern, a, flags=re.I)\n",
    "    lst_hoax = re.findall(hoax_pattern, a, flags=re.I)\n",
    "    \n",
    "    l += 1\n",
    "    \n",
    "    if len(lst_arm_parts) > 0:\n",
    "        shark_attack['Arm'].update(pd.Series([1], index=[l]))\n",
    "    if len(lst_leg_parts) > 0:\n",
    "        shark_attack['Leg'].update(pd.Series([1], index=[l]))\n",
    "    if len(lst_head_parts) > 0:\n",
    "        shark_attack['Head'].update(pd.Series([1], index=[l]))\n",
    "    if len(lst_torso_parts) > 0:\n",
    "        shark_attack['Torso'].update(pd.Series([1], index=[l]))\n",
    "    if len(lst_fatal) > 0:\n",
    "        shark_attack['Fatal'].update(pd.Series([1], index=[l]))\n",
    "    if len(lst_no_injury) > 0:\n",
    "        shark_attack['No_Injury'].update(pd.Series([1], index=[l]))\n",
    "    if len(lst_hoax) > 0:\n",
    "        shark_attack['Hoax'].update(pd.Series([1], index=[l]))"
   ]
  },
  {
   "cell_type": "markdown",
   "metadata": {},
   "source": [
    "### Unknown body parts:"
   ]
  },
  {
   "cell_type": "code",
   "execution_count": 16,
   "metadata": {},
   "outputs": [],
   "source": [
    "unknown_injury = shark_attack.query('Arm == 0 and Leg == 0 and Head == 0 and Torso == 0 and No_Injury == 0 and Fatal == 0 and Hoax == 0')"
   ]
  },
  {
   "cell_type": "code",
   "execution_count": 17,
   "metadata": {},
   "outputs": [],
   "source": [
    "unknown_injuries = unknown_injury.shape[0]"
   ]
  },
  {
   "cell_type": "markdown",
   "metadata": {},
   "source": [
    "### Attacks in each body part in percentage:"
   ]
  },
  {
   "cell_type": "code",
   "execution_count": 18,
   "metadata": {},
   "outputs": [
    {
     "name": "stdout",
     "output_type": "stream",
     "text": [
      "Leg attacks: 41.7%\n",
      "Arm attacks: 18.55%\n",
      "Head attacks: 6.6%\n",
      "Torso attacks: 4.76%\n",
      "No injuries: 12.87%\n",
      "Hoax: 0.08%\n",
      "Unknown injuries: 10.33%\n"
     ]
    }
   ],
   "source": [
    "print(f\"Leg attacks: {round(shark_attack['Leg'].sum() / shark_attack.shape[0] * 100, 2)}%\")\n",
    "print(f\"Arm attacks: {round(shark_attack['Arm'].sum() / shark_attack.shape[0] * 100,2)}%\")\n",
    "print(f\"Head attacks: {round(shark_attack['Head'].sum() / shark_attack.shape[0] * 100, 2)}%\")\n",
    "print(f\"Torso attacks: {round(shark_attack['Torso'].sum() / shark_attack.shape[0] * 100, 2)}%\")\n",
    "print(f\"No injuries: {round(shark_attack['No_Injury'].sum() / shark_attack.shape[0] * 100, 2)}%\")\n",
    "print(f\"Hoax: {round(shark_attack['Hoax'].sum() / shark_attack.shape[0] * 100, 2)}%\")\n",
    "print(f'Unknown injuries: {round(unknown_injuries / shark_attack.shape[0] * 100, 2)}%')"
   ]
  },
  {
   "cell_type": "markdown",
   "metadata": {},
   "source": [
    "# Cleaning 'Sex' Column"
   ]
  },
  {
   "cell_type": "code",
   "execution_count": 19,
   "metadata": {},
   "outputs": [],
   "source": [
    "shark_attack.rename(columns={'Sex ' : 'Sex'}, inplace=True)"
   ]
  },
  {
   "cell_type": "markdown",
   "metadata": {},
   "source": [
    "### Unique values for 'Sex':"
   ]
  },
  {
   "cell_type": "code",
   "execution_count": 20,
   "metadata": {},
   "outputs": [
    {
     "data": {
      "text/plain": [
       "array(['F', 'M', nan, 'M ', 'lli', 'N', '.'], dtype=object)"
      ]
     },
     "execution_count": 20,
     "metadata": {},
     "output_type": "execute_result"
    }
   ],
   "source": [
    "shark_attack['Sex'].unique()"
   ]
  },
  {
   "cell_type": "code",
   "execution_count": 21,
   "metadata": {},
   "outputs": [
    {
     "data": {
      "text/html": [
       "<div>\n",
       "<style scoped>\n",
       "    .dataframe tbody tr th:only-of-type {\n",
       "        vertical-align: middle;\n",
       "    }\n",
       "\n",
       "    .dataframe tbody tr th {\n",
       "        vertical-align: top;\n",
       "    }\n",
       "\n",
       "    .dataframe thead th {\n",
       "        text-align: right;\n",
       "    }\n",
       "</style>\n",
       "<table border=\"1\" class=\"dataframe\">\n",
       "  <thead>\n",
       "    <tr style=\"text-align: right;\">\n",
       "      <th></th>\n",
       "      <th>Case Number</th>\n",
       "      <th>Date</th>\n",
       "      <th>Year</th>\n",
       "      <th>Type</th>\n",
       "      <th>Country</th>\n",
       "      <th>Area</th>\n",
       "      <th>Location</th>\n",
       "      <th>Activity</th>\n",
       "      <th>Name</th>\n",
       "      <th>Sex</th>\n",
       "      <th>Age</th>\n",
       "      <th>Injury</th>\n",
       "      <th>Fatal (Y/N)</th>\n",
       "      <th>Time</th>\n",
       "      <th>Species</th>\n",
       "      <th>href</th>\n",
       "      <th>Arm</th>\n",
       "      <th>Leg</th>\n",
       "      <th>Head</th>\n",
       "      <th>Torso</th>\n",
       "      <th>Fatal</th>\n",
       "      <th>No_Injury</th>\n",
       "      <th>Hoax</th>\n",
       "    </tr>\n",
       "  </thead>\n",
       "  <tbody>\n",
       "    <tr>\n",
       "      <td>4938</td>\n",
       "      <td>1934.07.11</td>\n",
       "      <td>11-Jul-1934</td>\n",
       "      <td>1934.0</td>\n",
       "      <td>Boating</td>\n",
       "      <td>AUSTRALIA</td>\n",
       "      <td>New South Wales</td>\n",
       "      <td>Cronulla</td>\n",
       "      <td>Fishing</td>\n",
       "      <td>18' boat, occupants William &amp; Leslie Newton</td>\n",
       "      <td>N</td>\n",
       "      <td>NaN</td>\n",
       "      <td>No injury to occupants Sharks continually foll...</td>\n",
       "      <td>N</td>\n",
       "      <td>NaN</td>\n",
       "      <td>Blue pointer, 11'</td>\n",
       "      <td>http://sharkattackfile.net/spreadsheets/pdf_di...</td>\n",
       "      <td>0</td>\n",
       "      <td>0</td>\n",
       "      <td>0</td>\n",
       "      <td>0</td>\n",
       "      <td>0</td>\n",
       "      <td>1</td>\n",
       "      <td>0</td>\n",
       "    </tr>\n",
       "    <tr>\n",
       "      <td>6131</td>\n",
       "      <td>1801.12.18.R</td>\n",
       "      <td>Reported 18-Dec-1801</td>\n",
       "      <td>1801.0</td>\n",
       "      <td>Provoked</td>\n",
       "      <td>NaN</td>\n",
       "      <td>NaN</td>\n",
       "      <td>NaN</td>\n",
       "      <td>Standing on landed shark's tail</td>\n",
       "      <td>Stephen Pettigew</td>\n",
       "      <td>N</td>\n",
       "      <td>NaN</td>\n",
       "      <td>FATAL, PROVOKED INCIDENT</td>\n",
       "      <td>Y</td>\n",
       "      <td>NaN</td>\n",
       "      <td>12' shark</td>\n",
       "      <td>http://sharkattackfile.net/spreadsheets/pdf_di...</td>\n",
       "      <td>0</td>\n",
       "      <td>0</td>\n",
       "      <td>0</td>\n",
       "      <td>0</td>\n",
       "      <td>1</td>\n",
       "      <td>0</td>\n",
       "      <td>0</td>\n",
       "    </tr>\n",
       "  </tbody>\n",
       "</table>\n",
       "</div>"
      ],
      "text/plain": [
       "       Case Number                  Date    Year      Type    Country  \\\n",
       "4938    1934.07.11           11-Jul-1934  1934.0   Boating  AUSTRALIA   \n",
       "6131  1801.12.18.R  Reported 18-Dec-1801  1801.0  Provoked        NaN   \n",
       "\n",
       "                 Area  Location                         Activity  \\\n",
       "4938  New South Wales  Cronulla                          Fishing   \n",
       "6131              NaN       NaN  Standing on landed shark's tail   \n",
       "\n",
       "                                             Name Sex  Age  \\\n",
       "4938  18' boat, occupants William & Leslie Newton   N  NaN   \n",
       "6131                             Stephen Pettigew   N  NaN   \n",
       "\n",
       "                                                 Injury Fatal (Y/N) Time  \\\n",
       "4938  No injury to occupants Sharks continually foll...           N  NaN   \n",
       "6131                           FATAL, PROVOKED INCIDENT           Y  NaN   \n",
       "\n",
       "                Species                                                href  \\\n",
       "4938  Blue pointer, 11'   http://sharkattackfile.net/spreadsheets/pdf_di...   \n",
       "6131           12' shark  http://sharkattackfile.net/spreadsheets/pdf_di...   \n",
       "\n",
       "      Arm  Leg  Head  Torso  Fatal  No_Injury  Hoax  \n",
       "4938    0    0     0      0      0          1     0  \n",
       "6131    0    0     0      0      1          0     0  "
      ]
     },
     "execution_count": 21,
     "metadata": {},
     "output_type": "execute_result"
    }
   ],
   "source": [
    "shark_attack.query('Sex == \"N\"')"
   ]
  },
  {
   "cell_type": "markdown",
   "metadata": {},
   "source": [
    "### According to the pdf with the information regarding  the incident, both people with 'Sex' = 'N',  were Male"
   ]
  },
  {
   "cell_type": "code",
   "execution_count": 22,
   "metadata": {},
   "outputs": [],
   "source": [
    "shark_attack.loc[4938, 'Sex'] = 'M'\n",
    "shark_attack.loc[6131, 'Sex'] = 'M'"
   ]
  },
  {
   "cell_type": "code",
   "execution_count": 23,
   "metadata": {},
   "outputs": [
    {
     "data": {
      "text/html": [
       "<div>\n",
       "<style scoped>\n",
       "    .dataframe tbody tr th:only-of-type {\n",
       "        vertical-align: middle;\n",
       "    }\n",
       "\n",
       "    .dataframe tbody tr th {\n",
       "        vertical-align: top;\n",
       "    }\n",
       "\n",
       "    .dataframe thead th {\n",
       "        text-align: right;\n",
       "    }\n",
       "</style>\n",
       "<table border=\"1\" class=\"dataframe\">\n",
       "  <thead>\n",
       "    <tr style=\"text-align: right;\">\n",
       "      <th></th>\n",
       "      <th>Case Number</th>\n",
       "      <th>Date</th>\n",
       "      <th>Year</th>\n",
       "      <th>Type</th>\n",
       "      <th>Country</th>\n",
       "      <th>Area</th>\n",
       "      <th>Location</th>\n",
       "      <th>Activity</th>\n",
       "      <th>Name</th>\n",
       "      <th>Sex</th>\n",
       "      <th>Age</th>\n",
       "      <th>Injury</th>\n",
       "      <th>Fatal (Y/N)</th>\n",
       "      <th>Time</th>\n",
       "      <th>Species</th>\n",
       "      <th>href</th>\n",
       "      <th>Arm</th>\n",
       "      <th>Leg</th>\n",
       "      <th>Head</th>\n",
       "      <th>Torso</th>\n",
       "      <th>Fatal</th>\n",
       "      <th>No_Injury</th>\n",
       "      <th>Hoax</th>\n",
       "    </tr>\n",
       "  </thead>\n",
       "  <tbody>\n",
       "    <tr>\n",
       "      <td>1624</td>\n",
       "      <td>2004.11.11.b</td>\n",
       "      <td>11-Nov-2004</td>\n",
       "      <td>2004.0</td>\n",
       "      <td>Unprovoked</td>\n",
       "      <td>USA</td>\n",
       "      <td>California</td>\n",
       "      <td>Bunkers, Humboldt Bay, Eureka, Humboldt County</td>\n",
       "      <td>Surfing</td>\n",
       "      <td>Brian Kang</td>\n",
       "      <td>lli</td>\n",
       "      <td>38</td>\n",
       "      <td>Lacerations to hand, knee &amp; thigh</td>\n",
       "      <td>N</td>\n",
       "      <td>13h30</td>\n",
       "      <td>5.5 m [18'] white shark</td>\n",
       "      <td>http://sharkattackfile.net/spreadsheets/pdf_di...</td>\n",
       "      <td>1</td>\n",
       "      <td>1</td>\n",
       "      <td>0</td>\n",
       "      <td>0</td>\n",
       "      <td>0</td>\n",
       "      <td>0</td>\n",
       "      <td>0</td>\n",
       "    </tr>\n",
       "  </tbody>\n",
       "</table>\n",
       "</div>"
      ],
      "text/plain": [
       "       Case Number         Date    Year        Type Country        Area  \\\n",
       "1624  2004.11.11.b  11-Nov-2004  2004.0  Unprovoked     USA  California   \n",
       "\n",
       "                                            Location Activity        Name  \\\n",
       "1624  Bunkers, Humboldt Bay, Eureka, Humboldt County  Surfing  Brian Kang   \n",
       "\n",
       "      Sex Age                              Injury Fatal (Y/N)   Time  \\\n",
       "1624  lli  38  Lacerations to hand, knee & thigh            N  13h30   \n",
       "\n",
       "                     Species   \\\n",
       "1624  5.5 m [18'] white shark   \n",
       "\n",
       "                                                   href  Arm  Leg  Head  \\\n",
       "1624  http://sharkattackfile.net/spreadsheets/pdf_di...    1    1     0   \n",
       "\n",
       "      Torso  Fatal  No_Injury  Hoax  \n",
       "1624      0      0          0     0  "
      ]
     },
     "execution_count": 23,
     "metadata": {},
     "output_type": "execute_result"
    }
   ],
   "source": [
    "shark_attack.query('Sex == \"lli\"')"
   ]
  },
  {
   "cell_type": "markdown",
   "metadata": {},
   "source": [
    "### According to the pdf with the information regarding the incident, the person with 'Sex' = 'lli' was Male"
   ]
  },
  {
   "cell_type": "code",
   "execution_count": 24,
   "metadata": {},
   "outputs": [],
   "source": [
    "shark_attack.loc[1624, 'Sex'] = 'M'"
   ]
  },
  {
   "cell_type": "markdown",
   "metadata": {},
   "source": [
    "### Removing spaces before and after 'M' or 'F'"
   ]
  },
  {
   "cell_type": "code",
   "execution_count": 25,
   "metadata": {},
   "outputs": [],
   "source": [
    "shark_attack.loc[~shark_attack['Sex'].isna(), 'Sex'] = shark_attack['Sex'].str.strip()"
   ]
  },
  {
   "cell_type": "code",
   "execution_count": 26,
   "metadata": {},
   "outputs": [
    {
     "data": {
      "text/plain": [
       "array(['F', 'M', nan, '.'], dtype=object)"
      ]
     },
     "execution_count": 26,
     "metadata": {},
     "output_type": "execute_result"
    }
   ],
   "source": [
    "shark_attack['Sex'].unique()"
   ]
  },
  {
   "cell_type": "code",
   "execution_count": 27,
   "metadata": {},
   "outputs": [
    {
     "data": {
      "text/html": [
       "<div>\n",
       "<style scoped>\n",
       "    .dataframe tbody tr th:only-of-type {\n",
       "        vertical-align: middle;\n",
       "    }\n",
       "\n",
       "    .dataframe tbody tr th {\n",
       "        vertical-align: top;\n",
       "    }\n",
       "\n",
       "    .dataframe thead th {\n",
       "        text-align: right;\n",
       "    }\n",
       "</style>\n",
       "<table border=\"1\" class=\"dataframe\">\n",
       "  <thead>\n",
       "    <tr style=\"text-align: right;\">\n",
       "      <th></th>\n",
       "      <th>Case Number</th>\n",
       "      <th>Date</th>\n",
       "      <th>Year</th>\n",
       "      <th>Type</th>\n",
       "      <th>Country</th>\n",
       "      <th>Area</th>\n",
       "      <th>Location</th>\n",
       "      <th>Activity</th>\n",
       "      <th>Name</th>\n",
       "      <th>Sex</th>\n",
       "      <th>Age</th>\n",
       "      <th>Injury</th>\n",
       "      <th>Fatal (Y/N)</th>\n",
       "      <th>Time</th>\n",
       "      <th>Species</th>\n",
       "      <th>href</th>\n",
       "      <th>Arm</th>\n",
       "      <th>Leg</th>\n",
       "      <th>Head</th>\n",
       "      <th>Torso</th>\n",
       "      <th>Fatal</th>\n",
       "      <th>No_Injury</th>\n",
       "      <th>Hoax</th>\n",
       "    </tr>\n",
       "  </thead>\n",
       "  <tbody>\n",
       "    <tr>\n",
       "      <td>5437</td>\n",
       "      <td>1908.06.02.R</td>\n",
       "      <td>Reported 02-Jun-1908</td>\n",
       "      <td>1908.0</td>\n",
       "      <td>Sea Disaster</td>\n",
       "      <td>PAPUA NEW GUINEA</td>\n",
       "      <td>New Britain</td>\n",
       "      <td>Matupi</td>\n",
       "      <td>.</td>\n",
       "      <td>NaN</td>\n",
       "      <td>.</td>\n",
       "      <td>NaN</td>\n",
       "      <td>Remains of 3 humans recovered from shark, but ...</td>\n",
       "      <td>Y</td>\n",
       "      <td>NaN</td>\n",
       "      <td>Allegedly a 33-foot shark</td>\n",
       "      <td>http://sharkattackfile.net/spreadsheets/pdf_di...</td>\n",
       "      <td>0</td>\n",
       "      <td>0</td>\n",
       "      <td>0</td>\n",
       "      <td>0</td>\n",
       "      <td>1</td>\n",
       "      <td>0</td>\n",
       "      <td>0</td>\n",
       "    </tr>\n",
       "  </tbody>\n",
       "</table>\n",
       "</div>"
      ],
      "text/plain": [
       "       Case Number                  Date    Year          Type  \\\n",
       "5437  1908.06.02.R  Reported 02-Jun-1908  1908.0  Sea Disaster   \n",
       "\n",
       "               Country         Area Location Activity Name Sex  Age  \\\n",
       "5437  PAPUA NEW GUINEA  New Britain   Matupi        .  NaN   .  NaN   \n",
       "\n",
       "                                                 Injury Fatal (Y/N) Time  \\\n",
       "5437  Remains of 3 humans recovered from shark, but ...           Y  NaN   \n",
       "\n",
       "                       Species   \\\n",
       "5437  Allegedly a 33-foot shark   \n",
       "\n",
       "                                                   href  Arm  Leg  Head  \\\n",
       "5437  http://sharkattackfile.net/spreadsheets/pdf_di...    0    0     0   \n",
       "\n",
       "      Torso  Fatal  No_Injury  Hoax  \n",
       "5437      0      1          0     0  "
      ]
     },
     "execution_count": 27,
     "metadata": {},
     "output_type": "execute_result"
    }
   ],
   "source": [
    "shark_attack.query('Sex == \".\"')"
   ]
  },
  {
   "cell_type": "markdown",
   "metadata": {},
   "source": [
    "### No informations about the person, change the value to Unknown"
   ]
  },
  {
   "cell_type": "code",
   "execution_count": 28,
   "metadata": {},
   "outputs": [],
   "source": [
    "shark_attack.loc[5437, 'Sex'] = np.nan"
   ]
  },
  {
   "cell_type": "code",
   "execution_count": 29,
   "metadata": {},
   "outputs": [],
   "source": [
    "shark_attack['Sex'].fillna(value='Unknown', inplace=True)"
   ]
  },
  {
   "cell_type": "code",
   "execution_count": 30,
   "metadata": {},
   "outputs": [
    {
     "data": {
      "text/plain": [
       "M          5099\n",
       "F           637\n",
       "Unknown     566\n",
       "Name: Sex, dtype: int64"
      ]
     },
     "execution_count": 30,
     "metadata": {},
     "output_type": "execute_result"
    }
   ],
   "source": [
    "shark_attack['Sex'].value_counts()"
   ]
  },
  {
   "cell_type": "markdown",
   "metadata": {},
   "source": [
    "# Cleaning 'Country' columns"
   ]
  },
  {
   "cell_type": "code",
   "execution_count": 31,
   "metadata": {},
   "outputs": [
    {
     "data": {
      "text/plain": [
       "50"
      ]
     },
     "execution_count": 31,
     "metadata": {},
     "output_type": "execute_result"
    }
   ],
   "source": [
    "shark_attack['Country'].isna().sum()"
   ]
  },
  {
   "cell_type": "code",
   "execution_count": 32,
   "metadata": {},
   "outputs": [],
   "source": [
    "shark_attack['Country'].fillna(value='Unknown', inplace=True)"
   ]
  },
  {
   "cell_type": "code",
   "execution_count": 33,
   "metadata": {},
   "outputs": [],
   "source": [
    "shark_attack['Country'] = shark_attack['Country'].apply(lambda x : 'United States' if x == 'USA' else x.title())"
   ]
  },
  {
   "cell_type": "code",
   "execution_count": 34,
   "metadata": {},
   "outputs": [],
   "source": [
    "def clean_country(x):\n",
    "    pattern = '(\\w*\\s?/?\\s?\\w*)\\??'\n",
    "    return re.findall(pattern, x)[0]"
   ]
  },
  {
   "cell_type": "markdown",
   "metadata": {},
   "source": [
    "### Top 3 countries with most attacks:"
   ]
  },
  {
   "cell_type": "code",
   "execution_count": 35,
   "metadata": {},
   "outputs": [
    {
     "data": {
      "text/plain": [
       "United States    2229\n",
       "Australia        1338\n",
       "South Africa      579\n",
       "Name: Country, dtype: int64"
      ]
     },
     "execution_count": 35,
     "metadata": {},
     "output_type": "execute_result"
    }
   ],
   "source": [
    "shark_attack['Country'].apply(clean_country).value_counts().head(3)"
   ]
  },
  {
   "cell_type": "markdown",
   "metadata": {},
   "source": [
    "# Cleaning 'Fatal (Y/N)' column"
   ]
  },
  {
   "cell_type": "markdown",
   "metadata": {},
   "source": [
    "## Next, we start cleaning the column that says whether the injury was fatal or not"
   ]
  },
  {
   "cell_type": "code",
   "execution_count": 36,
   "metadata": {},
   "outputs": [
    {
     "data": {
      "text/plain": [
       "N          4293\n",
       "Y          1388\n",
       "UNKNOWN      71\n",
       " N            7\n",
       "N             1\n",
       "y             1\n",
       "M             1\n",
       "2017          1\n",
       "Name: Fatal (Y/N), dtype: int64"
      ]
     },
     "execution_count": 36,
     "metadata": {},
     "output_type": "execute_result"
    }
   ],
   "source": [
    "shark_attack['Fatal (Y/N)'].value_counts()"
   ]
  },
  {
   "cell_type": "code",
   "execution_count": 37,
   "metadata": {},
   "outputs": [],
   "source": [
    "shark_attack['Fatal (Y/N)'].replace(to_replace =' ?N ?', value = 'N', inplace=True, regex = True) # Remove espaces.\n",
    "shark_attack['Fatal (Y/N)'].replace(to_replace =' ?[NnF]', value = 'N', inplace=True, regex = True) # Adjust the values\n",
    "shark_attack['Fatal (Y/N)'].replace(to_replace ='y', value = 'Y', inplace=True, regex = True) # Turn it into capital 'Y'"
   ]
  },
  {
   "cell_type": "code",
   "execution_count": 38,
   "metadata": {},
   "outputs": [
    {
     "data": {
      "text/plain": [
       "N          4301\n",
       "Y          1389\n",
       "UNKNOWN      71\n",
       "M             1\n",
       "2017          1\n",
       "Name: Fatal (Y/N), dtype: int64"
      ]
     },
     "execution_count": 38,
     "metadata": {},
     "output_type": "execute_result"
    }
   ],
   "source": [
    "shark_attack['Fatal (Y/N)'].value_counts()"
   ]
  },
  {
   "cell_type": "markdown",
   "metadata": {},
   "source": [
    "## Later, we look for the values that differ from Y, N or UNKNOWN"
   ]
  },
  {
   "cell_type": "code",
   "execution_count": 39,
   "metadata": {},
   "outputs": [
    {
     "data": {
      "text/html": [
       "<div>\n",
       "<style scoped>\n",
       "    .dataframe tbody tr th:only-of-type {\n",
       "        vertical-align: middle;\n",
       "    }\n",
       "\n",
       "    .dataframe tbody tr th {\n",
       "        vertical-align: top;\n",
       "    }\n",
       "\n",
       "    .dataframe thead th {\n",
       "        text-align: right;\n",
       "    }\n",
       "</style>\n",
       "<table border=\"1\" class=\"dataframe\">\n",
       "  <thead>\n",
       "    <tr style=\"text-align: right;\">\n",
       "      <th></th>\n",
       "      <th>Case Number</th>\n",
       "      <th>Date</th>\n",
       "      <th>Year</th>\n",
       "      <th>Type</th>\n",
       "      <th>Country</th>\n",
       "      <th>Area</th>\n",
       "      <th>Location</th>\n",
       "      <th>Activity</th>\n",
       "      <th>Name</th>\n",
       "      <th>Sex</th>\n",
       "      <th>Age</th>\n",
       "      <th>Injury</th>\n",
       "      <th>Fatal (Y/N)</th>\n",
       "      <th>Time</th>\n",
       "      <th>Species</th>\n",
       "      <th>href</th>\n",
       "      <th>Arm</th>\n",
       "      <th>Leg</th>\n",
       "      <th>Head</th>\n",
       "      <th>Torso</th>\n",
       "      <th>Fatal</th>\n",
       "      <th>No_Injury</th>\n",
       "      <th>Hoax</th>\n",
       "    </tr>\n",
       "  </thead>\n",
       "  <tbody>\n",
       "    <tr>\n",
       "      <td>786</td>\n",
       "      <td>2012.06.10</td>\n",
       "      <td>10-Jun-2012</td>\n",
       "      <td>2012.0</td>\n",
       "      <td>Provoked</td>\n",
       "      <td>Italy</td>\n",
       "      <td>Sardinia</td>\n",
       "      <td>Muravera</td>\n",
       "      <td>Attempting to rescue an injured &amp; beached shark</td>\n",
       "      <td>Giorgio Zara</td>\n",
       "      <td>M</td>\n",
       "      <td>57</td>\n",
       "      <td>Lower left leg injured PROVOKED ACCIDENT</td>\n",
       "      <td>2017</td>\n",
       "      <td>Morning</td>\n",
       "      <td>Blue shark, 2.5m</td>\n",
       "      <td>http://sharkattackfile.net/spreadsheets/pdf_di...</td>\n",
       "      <td>0</td>\n",
       "      <td>1</td>\n",
       "      <td>0</td>\n",
       "      <td>0</td>\n",
       "      <td>0</td>\n",
       "      <td>0</td>\n",
       "      <td>0</td>\n",
       "    </tr>\n",
       "  </tbody>\n",
       "</table>\n",
       "</div>"
      ],
      "text/plain": [
       "    Case Number         Date    Year      Type Country      Area  Location  \\\n",
       "786  2012.06.10  10-Jun-2012  2012.0  Provoked   Italy  Sardinia  Muravera   \n",
       "\n",
       "                                            Activity          Name Sex Age  \\\n",
       "786  Attempting to rescue an injured & beached shark  Giorgio Zara   M  57   \n",
       "\n",
       "                                       Injury Fatal (Y/N)     Time  \\\n",
       "786  Lower left leg injured PROVOKED ACCIDENT        2017  Morning   \n",
       "\n",
       "             Species                                                href  Arm  \\\n",
       "786  Blue shark, 2.5m  http://sharkattackfile.net/spreadsheets/pdf_di...    0   \n",
       "\n",
       "     Leg  Head  Torso  Fatal  No_Injury  Hoax  \n",
       "786    1     0      0      0          0     0  "
      ]
     },
     "execution_count": 39,
     "metadata": {},
     "output_type": "execute_result"
    }
   ],
   "source": [
    "shark_attack.loc[shark_attack['Fatal (Y/N)'] == '2017']"
   ]
  },
  {
   "cell_type": "markdown",
   "metadata": {},
   "source": [
    "## Lower left leg injured PROVOKED ACCIDENT, It was not fatal. Therefore we switch it to N\t"
   ]
  },
  {
   "cell_type": "code",
   "execution_count": 40,
   "metadata": {},
   "outputs": [],
   "source": [
    "shark_attack['Fatal (Y/N)'].replace(to_replace ='2017', value = 'N', inplace=True, regex = True) "
   ]
  },
  {
   "cell_type": "code",
   "execution_count": 41,
   "metadata": {},
   "outputs": [
    {
     "data": {
      "text/html": [
       "<div>\n",
       "<style scoped>\n",
       "    .dataframe tbody tr th:only-of-type {\n",
       "        vertical-align: middle;\n",
       "    }\n",
       "\n",
       "    .dataframe tbody tr th {\n",
       "        vertical-align: top;\n",
       "    }\n",
       "\n",
       "    .dataframe thead th {\n",
       "        text-align: right;\n",
       "    }\n",
       "</style>\n",
       "<table border=\"1\" class=\"dataframe\">\n",
       "  <thead>\n",
       "    <tr style=\"text-align: right;\">\n",
       "      <th></th>\n",
       "      <th>Case Number</th>\n",
       "      <th>Date</th>\n",
       "      <th>Year</th>\n",
       "      <th>Type</th>\n",
       "      <th>Country</th>\n",
       "      <th>Area</th>\n",
       "      <th>Location</th>\n",
       "      <th>Activity</th>\n",
       "      <th>Name</th>\n",
       "      <th>Sex</th>\n",
       "      <th>Age</th>\n",
       "      <th>Injury</th>\n",
       "      <th>Fatal (Y/N)</th>\n",
       "      <th>Time</th>\n",
       "      <th>Species</th>\n",
       "      <th>href</th>\n",
       "      <th>Arm</th>\n",
       "      <th>Leg</th>\n",
       "      <th>Head</th>\n",
       "      <th>Torso</th>\n",
       "      <th>Fatal</th>\n",
       "      <th>No_Injury</th>\n",
       "      <th>Hoax</th>\n",
       "    </tr>\n",
       "  </thead>\n",
       "  <tbody>\n",
       "    <tr>\n",
       "      <td>285</td>\n",
       "      <td>2016.04.18.b</td>\n",
       "      <td>18-Apr-2016</td>\n",
       "      <td>2016.0</td>\n",
       "      <td>Provoked</td>\n",
       "      <td>French Polynesia</td>\n",
       "      <td>Tuamotos</td>\n",
       "      <td>Makemo Atoll</td>\n",
       "      <td>Spearfishing</td>\n",
       "      <td>Hoata Iotua</td>\n",
       "      <td>M</td>\n",
       "      <td>22</td>\n",
       "      <td>Laceration to knee by speared shark PROVOKED I...</td>\n",
       "      <td>M</td>\n",
       "      <td>Morning</td>\n",
       "      <td>Grey reef shark, 2 m</td>\n",
       "      <td>http://sharkattackfile.net/spreadsheets/pdf_di...</td>\n",
       "      <td>0</td>\n",
       "      <td>1</td>\n",
       "      <td>1</td>\n",
       "      <td>0</td>\n",
       "      <td>0</td>\n",
       "      <td>0</td>\n",
       "      <td>0</td>\n",
       "    </tr>\n",
       "  </tbody>\n",
       "</table>\n",
       "</div>"
      ],
      "text/plain": [
       "      Case Number         Date    Year      Type           Country      Area  \\\n",
       "285  2016.04.18.b  18-Apr-2016  2016.0  Provoked  French Polynesia  Tuamotos   \n",
       "\n",
       "         Location      Activity         Name Sex Age  \\\n",
       "285  Makemo Atoll  Spearfishing  Hoata Iotua   M  22   \n",
       "\n",
       "                                                Injury Fatal (Y/N)     Time  \\\n",
       "285  Laceration to knee by speared shark PROVOKED I...           M  Morning   \n",
       "\n",
       "                 Species                                                href  \\\n",
       "285  Grey reef shark, 2 m  http://sharkattackfile.net/spreadsheets/pdf_di...   \n",
       "\n",
       "     Arm  Leg  Head  Torso  Fatal  No_Injury  Hoax  \n",
       "285    0    1     1      0      0          0     0  "
      ]
     },
     "execution_count": 41,
     "metadata": {},
     "output_type": "execute_result"
    }
   ],
   "source": [
    "shark_attack.loc[shark_attack['Fatal (Y/N)'] == 'M']"
   ]
  },
  {
   "cell_type": "markdown",
   "metadata": {},
   "source": [
    "## Laceration to knee by speared shark PROVOKED INCIDENT. It was not fatal. Therefore we switch it to N"
   ]
  },
  {
   "cell_type": "code",
   "execution_count": 42,
   "metadata": {},
   "outputs": [],
   "source": [
    "shark_attack['Fatal (Y/N)'].replace(to_replace ='M', value = 'N', inplace=True, regex = True) "
   ]
  },
  {
   "cell_type": "code",
   "execution_count": 43,
   "metadata": {},
   "outputs": [
    {
     "data": {
      "text/plain": [
       "N          4303\n",
       "Y          1389\n",
       "UNKNOWN      71\n",
       "Name: Fatal (Y/N), dtype: int64"
      ]
     },
     "execution_count": 43,
     "metadata": {},
     "output_type": "execute_result"
    }
   ],
   "source": [
    "shark_attack['Fatal (Y/N)'].value_counts()"
   ]
  },
  {
   "cell_type": "markdown",
   "metadata": {},
   "source": [
    "# Cleaning 'Year' column"
   ]
  },
  {
   "cell_type": "markdown",
   "metadata": {},
   "source": [
    "## Next, we start cleaning the Year column."
   ]
  },
  {
   "cell_type": "code",
   "execution_count": 44,
   "metadata": {},
   "outputs": [
    {
     "data": {
      "text/plain": [
       "6300"
      ]
     },
     "execution_count": 44,
     "metadata": {},
     "output_type": "execute_result"
    }
   ],
   "source": [
    "shark_attack['Year'].value_counts().sum(axis=0)"
   ]
  },
  {
   "cell_type": "code",
   "execution_count": 46,
   "metadata": {},
   "outputs": [
    {
     "data": {
      "text/html": [
       "<div>\n",
       "<style scoped>\n",
       "    .dataframe tbody tr th:only-of-type {\n",
       "        vertical-align: middle;\n",
       "    }\n",
       "\n",
       "    .dataframe tbody tr th {\n",
       "        vertical-align: top;\n",
       "    }\n",
       "\n",
       "    .dataframe thead th {\n",
       "        text-align: right;\n",
       "    }\n",
       "</style>\n",
       "<table border=\"1\" class=\"dataframe\">\n",
       "  <thead>\n",
       "    <tr style=\"text-align: right;\">\n",
       "      <th></th>\n",
       "      <th>Case Number</th>\n",
       "      <th>Date</th>\n",
       "      <th>Year</th>\n",
       "      <th>Type</th>\n",
       "      <th>Country</th>\n",
       "      <th>Area</th>\n",
       "      <th>Location</th>\n",
       "      <th>Activity</th>\n",
       "      <th>Name</th>\n",
       "      <th>Sex</th>\n",
       "      <th>Age</th>\n",
       "      <th>Injury</th>\n",
       "      <th>Fatal (Y/N)</th>\n",
       "      <th>Time</th>\n",
       "      <th>Species</th>\n",
       "      <th>href</th>\n",
       "      <th>Arm</th>\n",
       "      <th>Leg</th>\n",
       "      <th>Head</th>\n",
       "      <th>Torso</th>\n",
       "      <th>Fatal</th>\n",
       "      <th>No_Injury</th>\n",
       "      <th>Hoax</th>\n",
       "    </tr>\n",
       "  </thead>\n",
       "  <tbody>\n",
       "    <tr>\n",
       "      <td>6177</td>\n",
       "      <td>0000.0214</td>\n",
       "      <td>Ca. 214 B.C.</td>\n",
       "      <td>0.0</td>\n",
       "      <td>Unprovoked</td>\n",
       "      <td>Unknown</td>\n",
       "      <td>Ionian Sea</td>\n",
       "      <td>NaN</td>\n",
       "      <td>Ascending from a dive</td>\n",
       "      <td>Tharsys, a sponge diver</td>\n",
       "      <td>M</td>\n",
       "      <td>NaN</td>\n",
       "      <td>FATAL, shark/s bit him in two</td>\n",
       "      <td>Y</td>\n",
       "      <td>NaN</td>\n",
       "      <td>NaN</td>\n",
       "      <td>http://sharkattackfile.net/spreadsheets/pdf_di...</td>\n",
       "      <td>0</td>\n",
       "      <td>0</td>\n",
       "      <td>0</td>\n",
       "      <td>0</td>\n",
       "      <td>1</td>\n",
       "      <td>0</td>\n",
       "      <td>0</td>\n",
       "    </tr>\n",
       "    <tr>\n",
       "      <td>6178</td>\n",
       "      <td>0000.0336</td>\n",
       "      <td>Ca. 336.B.C..</td>\n",
       "      <td>0.0</td>\n",
       "      <td>Unprovoked</td>\n",
       "      <td>Greece</td>\n",
       "      <td>Piraeus</td>\n",
       "      <td>In the haven of Cantharus</td>\n",
       "      <td>Washing his pig in preparation for a religious...</td>\n",
       "      <td>A candidate for initiation</td>\n",
       "      <td>M</td>\n",
       "      <td>NaN</td>\n",
       "      <td>FATAL, shark \"bit off all lower parts of him u...</td>\n",
       "      <td>Y</td>\n",
       "      <td>NaN</td>\n",
       "      <td>NaN</td>\n",
       "      <td>http://sharkattackfile.net/spreadsheets/pdf_di...</td>\n",
       "      <td>0</td>\n",
       "      <td>0</td>\n",
       "      <td>0</td>\n",
       "      <td>0</td>\n",
       "      <td>1</td>\n",
       "      <td>0</td>\n",
       "      <td>0</td>\n",
       "    </tr>\n",
       "    <tr>\n",
       "      <td>6179</td>\n",
       "      <td>0000.0493</td>\n",
       "      <td>493 B.C.</td>\n",
       "      <td>0.0</td>\n",
       "      <td>Sea Disaster</td>\n",
       "      <td>Greece</td>\n",
       "      <td>Off Thessaly</td>\n",
       "      <td>NaN</td>\n",
       "      <td>Shipwrecked Persian Fleet</td>\n",
       "      <td>males</td>\n",
       "      <td>M</td>\n",
       "      <td>NaN</td>\n",
       "      <td>Herodotus tells of sharks attacking men in the...</td>\n",
       "      <td>Y</td>\n",
       "      <td>NaN</td>\n",
       "      <td>NaN</td>\n",
       "      <td>http://sharkattackfile.net/spreadsheets/pdf_di...</td>\n",
       "      <td>0</td>\n",
       "      <td>0</td>\n",
       "      <td>0</td>\n",
       "      <td>0</td>\n",
       "      <td>0</td>\n",
       "      <td>0</td>\n",
       "      <td>0</td>\n",
       "    </tr>\n",
       "    <tr>\n",
       "      <td>6180</td>\n",
       "      <td>0000.0725</td>\n",
       "      <td>Ca. 725 B.C.</td>\n",
       "      <td>0.0</td>\n",
       "      <td>Sea Disaster</td>\n",
       "      <td>Italy</td>\n",
       "      <td>Tyrrhenian Sea</td>\n",
       "      <td>Krater found during excavations at Lacco Ameno...</td>\n",
       "      <td>Shipwreck</td>\n",
       "      <td>males</td>\n",
       "      <td>M</td>\n",
       "      <td>NaN</td>\n",
       "      <td>Depicts shipwrecked sailors  attacked by a sha...</td>\n",
       "      <td>Y</td>\n",
       "      <td>NaN</td>\n",
       "      <td>NaN</td>\n",
       "      <td>http://sharkattackfile.net/spreadsheets/pdf_di...</td>\n",
       "      <td>0</td>\n",
       "      <td>0</td>\n",
       "      <td>0</td>\n",
       "      <td>1</td>\n",
       "      <td>0</td>\n",
       "      <td>0</td>\n",
       "      <td>0</td>\n",
       "    </tr>\n",
       "    <tr>\n",
       "      <td>6181</td>\n",
       "      <td>ND-0154</td>\n",
       "      <td>Before 1939</td>\n",
       "      <td>0.0</td>\n",
       "      <td>Unprovoked</td>\n",
       "      <td>Canada</td>\n",
       "      <td>NaN</td>\n",
       "      <td>Grand Banks</td>\n",
       "      <td>Fishing</td>\n",
       "      <td>Joe Folsom</td>\n",
       "      <td>M</td>\n",
       "      <td>NaN</td>\n",
       "      <td>Arm bitten</td>\n",
       "      <td>N</td>\n",
       "      <td>NaN</td>\n",
       "      <td>NaN</td>\n",
       "      <td>http://sharkattackfile.net/spreadsheets/pdf_di...</td>\n",
       "      <td>1</td>\n",
       "      <td>0</td>\n",
       "      <td>0</td>\n",
       "      <td>0</td>\n",
       "      <td>0</td>\n",
       "      <td>0</td>\n",
       "      <td>0</td>\n",
       "    </tr>\n",
       "  </tbody>\n",
       "</table>\n",
       "</div>"
      ],
      "text/plain": [
       "     Case Number           Date  Year          Type  Country            Area  \\\n",
       "6177   0000.0214   Ca. 214 B.C.   0.0    Unprovoked  Unknown      Ionian Sea   \n",
       "6178   0000.0336  Ca. 336.B.C..   0.0    Unprovoked   Greece         Piraeus   \n",
       "6179   0000.0493       493 B.C.   0.0  Sea Disaster   Greece    Off Thessaly   \n",
       "6180   0000.0725   Ca. 725 B.C.   0.0  Sea Disaster    Italy  Tyrrhenian Sea   \n",
       "6181     ND-0154    Before 1939   0.0    Unprovoked   Canada             NaN   \n",
       "\n",
       "                                               Location  \\\n",
       "6177                                                NaN   \n",
       "6178                          In the haven of Cantharus   \n",
       "6179                                                NaN   \n",
       "6180  Krater found during excavations at Lacco Ameno...   \n",
       "6181                                        Grand Banks   \n",
       "\n",
       "                                               Activity  \\\n",
       "6177                              Ascending from a dive   \n",
       "6178  Washing his pig in preparation for a religious...   \n",
       "6179                          Shipwrecked Persian Fleet   \n",
       "6180                                          Shipwreck   \n",
       "6181                                            Fishing   \n",
       "\n",
       "                            Name Sex  Age  \\\n",
       "6177     Tharsys, a sponge diver   M  NaN   \n",
       "6178  A candidate for initiation   M  NaN   \n",
       "6179                       males   M  NaN   \n",
       "6180                       males   M  NaN   \n",
       "6181                  Joe Folsom   M  NaN   \n",
       "\n",
       "                                                 Injury Fatal (Y/N) Time  \\\n",
       "6177                      FATAL, shark/s bit him in two           Y  NaN   \n",
       "6178  FATAL, shark \"bit off all lower parts of him u...           Y  NaN   \n",
       "6179  Herodotus tells of sharks attacking men in the...           Y  NaN   \n",
       "6180  Depicts shipwrecked sailors  attacked by a sha...           Y  NaN   \n",
       "6181                                         Arm bitten           N  NaN   \n",
       "\n",
       "     Species                                                href  Arm  Leg  \\\n",
       "6177      NaN  http://sharkattackfile.net/spreadsheets/pdf_di...    0    0   \n",
       "6178      NaN  http://sharkattackfile.net/spreadsheets/pdf_di...    0    0   \n",
       "6179      NaN  http://sharkattackfile.net/spreadsheets/pdf_di...    0    0   \n",
       "6180      NaN  http://sharkattackfile.net/spreadsheets/pdf_di...    0    0   \n",
       "6181      NaN  http://sharkattackfile.net/spreadsheets/pdf_di...    1    0   \n",
       "\n",
       "      Head  Torso  Fatal  No_Injury  Hoax  \n",
       "6177     0      0      1          0     0  \n",
       "6178     0      0      1          0     0  \n",
       "6179     0      0      0          0     0  \n",
       "6180     0      1      0          0     0  \n",
       "6181     0      0      0          0     0  "
      ]
     },
     "execution_count": 46,
     "metadata": {},
     "output_type": "execute_result"
    }
   ],
   "source": [
    "shark_attack.loc[shark_attack['Year'] == 0].head(5)"
   ]
  },
  {
   "cell_type": "code",
   "execution_count": 47,
   "metadata": {},
   "outputs": [
    {
     "data": {
      "text/plain": [
       "0.0       0.0\n",
       "0.1    1893.0\n",
       "0.2    1930.0\n",
       "0.3    1952.0\n",
       "0.4    1962.0\n",
       "0.5    1977.0\n",
       "0.6    1992.0\n",
       "0.7    2001.0\n",
       "0.8    2008.0\n",
       "0.9    2013.0\n",
       "1.0    2018.0\n",
       "Name: Year, dtype: float64"
      ]
     },
     "execution_count": 47,
     "metadata": {},
     "output_type": "execute_result"
    }
   ],
   "source": [
    "shark_attack['Year'].quantile(np.arange(0,1.1, 0.1))"
   ]
  },
  {
   "cell_type": "code",
   "execution_count": 48,
   "metadata": {},
   "outputs": [
    {
     "data": {
      "text/plain": [
       "187    NaN\n",
       "6079   NaN\n",
       "Name: Year, dtype: float64"
      ]
     },
     "execution_count": 48,
     "metadata": {},
     "output_type": "execute_result"
    }
   ],
   "source": [
    "shark_attack['Year'].loc[shark_attack['Year'].isna()]"
   ]
  },
  {
   "cell_type": "code",
   "execution_count": 49,
   "metadata": {},
   "outputs": [
    {
     "data": {
      "text/plain": [
       "Case Number                                         2017.01.08.R\n",
       "Date                                        Reported 08-Jan-2017\n",
       "Year                                                         NaN\n",
       "Type                                                     Invalid\n",
       "Country                                                Australia\n",
       "Area                                                  Queensland\n",
       "Location                                                     NaN\n",
       "Activity                                            Spearfishing\n",
       "Name                                                Kerry Daniel\n",
       "Sex                                                            M\n",
       "Age                                                           35\n",
       "Injury                    No attack, shark made a threat display\n",
       "Fatal (Y/N)                                                  NaN\n",
       "Time                                                         NaN\n",
       "Species                                               Bull shark\n",
       "href           http://sharkattackfile.net/spreadsheets/pdf_di...\n",
       "Arm                                                            0\n",
       "Leg                                                            0\n",
       "Head                                                           0\n",
       "Torso                                                          0\n",
       "Fatal                                                          0\n",
       "No_Injury                                                      0\n",
       "Hoax                                                           0\n",
       "Name: 187, dtype: object"
      ]
     },
     "execution_count": 49,
     "metadata": {},
     "output_type": "execute_result"
    }
   ],
   "source": [
    "shark_attack.loc[187, :]"
   ]
  },
  {
   "cell_type": "code",
   "execution_count": 57,
   "metadata": {},
   "outputs": [],
   "source": [
    "shark_attack.loc[187,'Year'] = 2017 # According to the report, the shark threatened the victim"
   ]
  },
  {
   "cell_type": "code",
   "execution_count": 58,
   "metadata": {},
   "outputs": [
    {
     "data": {
      "text/plain": [
       "Case Number                                          2017.01.08.R\n",
       "Date                                         Reported 08-Jan-2017\n",
       "Year                                                         2017\n",
       "Type                                                      Invalid\n",
       "Country                                                 Australia\n",
       "Area                                                   Queensland\n",
       "Location                                                      NaN\n",
       "Activity                                             Spearfishing\n",
       "Name                                                 Kerry Daniel\n",
       "Sex                                                             M\n",
       "Age                                                            35\n",
       "Injury                     No attack, shark made a threat display\n",
       "Fatal (Y/N)                                                   NaN\n",
       "Time                                                          NaN\n",
       "Species                                                Bull shark\n",
       "href            http://sharkattackfile.net/spreadsheets/pdf_di...\n",
       "Arm                                                             0\n",
       "Leg                                                             0\n",
       "Head                                                            0\n",
       "Torso                                                           0\n",
       "Fatal                                                           0\n",
       "No_Injury                                                       0\n",
       "Hoax                                                            0\n",
       "(6079, Year)                                                 1836\n",
       "Name: 187, dtype: object"
      ]
     },
     "execution_count": 58,
     "metadata": {},
     "output_type": "execute_result"
    }
   ],
   "source": [
    "shark_attack.loc[187, :]"
   ]
  },
  {
   "cell_type": "code",
   "execution_count": 59,
   "metadata": {},
   "outputs": [
    {
     "data": {
      "text/plain": [
       "Case Number                                          1836.08.19.R\n",
       "Date                                         Reported 19-Aug-1836\n",
       "Year                                                          NaN\n",
       "Type                                                   Unprovoked\n",
       "Country                                                   England\n",
       "Area                                                   Cumberland\n",
       "Location                                               Whitehaven\n",
       "Activity                                                 Swimming\n",
       "Name                                                        a boy\n",
       "Sex                                                             M\n",
       "Age                                                           NaN\n",
       "Injury                                                      FATAL\n",
       "Fatal (Y/N)                                                     Y\n",
       "Time                                                          NaN\n",
       "Species                                                       NaN\n",
       "href            http://sharkattackfile.net/spreadsheets/pdf_di...\n",
       "Arm                                                             0\n",
       "Leg                                                             0\n",
       "Head                                                            0\n",
       "Torso                                                           0\n",
       "Fatal                                                           1\n",
       "No_Injury                                                       0\n",
       "Hoax                                                            0\n",
       "(6079, Year)                                                 1836\n",
       "Name: 6079, dtype: object"
      ]
     },
     "execution_count": 59,
     "metadata": {},
     "output_type": "execute_result"
    }
   ],
   "source": [
    "shark_attack.loc[6079, :]"
   ]
  },
  {
   "cell_type": "code",
   "execution_count": 62,
   "metadata": {},
   "outputs": [],
   "source": [
    "shark_attack.loc[6079,'Year'] = 1836  # According to the report, it happened in 1836"
   ]
  },
  {
   "cell_type": "code",
   "execution_count": 63,
   "metadata": {},
   "outputs": [
    {
     "data": {
      "text/plain": [
       "Case Number                                          1836.08.19.R\n",
       "Date                                         Reported 19-Aug-1836\n",
       "Year                                                         1836\n",
       "Type                                                   Unprovoked\n",
       "Country                                                   England\n",
       "Area                                                   Cumberland\n",
       "Location                                               Whitehaven\n",
       "Activity                                                 Swimming\n",
       "Name                                                        a boy\n",
       "Sex                                                             M\n",
       "Age                                                           NaN\n",
       "Injury                                                      FATAL\n",
       "Fatal (Y/N)                                                     Y\n",
       "Time                                                          NaN\n",
       "Species                                                       NaN\n",
       "href            http://sharkattackfile.net/spreadsheets/pdf_di...\n",
       "Arm                                                             0\n",
       "Leg                                                             0\n",
       "Head                                                            0\n",
       "Torso                                                           0\n",
       "Fatal                                                           1\n",
       "No_Injury                                                       0\n",
       "Hoax                                                            0\n",
       "(6079, Year)                                                 1836\n",
       "Name: 6079, dtype: object"
      ]
     },
     "execution_count": 63,
     "metadata": {},
     "output_type": "execute_result"
    }
   ],
   "source": [
    "shark_attack.loc[6079, :]"
   ]
  },
  {
   "cell_type": "code",
   "execution_count": 64,
   "metadata": {},
   "outputs": [
    {
     "data": {
      "text/plain": [
       "6302"
      ]
     },
     "execution_count": 64,
     "metadata": {},
     "output_type": "execute_result"
    }
   ],
   "source": [
    "shark_attack['Year'].value_counts().sum()"
   ]
  },
  {
   "cell_type": "code",
   "execution_count": 65,
   "metadata": {},
   "outputs": [
    {
     "data": {
      "text/plain": [
       "6177    0.0\n",
       "6178    0.0\n",
       "6179    0.0\n",
       "6180    0.0\n",
       "6181    0.0\n",
       "       ... \n",
       "6297    0.0\n",
       "6298    0.0\n",
       "6299    0.0\n",
       "6300    0.0\n",
       "6301    0.0\n",
       "Name: Year, Length: 125, dtype: float64"
      ]
     },
     "execution_count": 65,
     "metadata": {},
     "output_type": "execute_result"
    }
   ],
   "source": [
    "shark_attack['Year'].loc[shark_attack['Year']==0]"
   ]
  },
  {
   "cell_type": "code",
   "execution_count": 66,
   "metadata": {},
   "outputs": [
    {
     "data": {
      "text/plain": [
       "Case Number                                             0000.0214\n",
       "Date                                                 Ca. 214 B.C.\n",
       "Year                                                            0\n",
       "Type                                                   Unprovoked\n",
       "Country                                                   Unknown\n",
       "Area                                                   Ionian Sea\n",
       "Location                                                      NaN\n",
       "Activity                                    Ascending from a dive\n",
       "Name                                      Tharsys, a sponge diver\n",
       "Sex                                                             M\n",
       "Age                                                           NaN\n",
       "Injury                              FATAL, shark/s bit him in two\n",
       "Fatal (Y/N)                                                     Y\n",
       "Time                                                          NaN\n",
       "Species                                                       NaN\n",
       "href            http://sharkattackfile.net/spreadsheets/pdf_di...\n",
       "Arm                                                             0\n",
       "Leg                                                             0\n",
       "Head                                                            0\n",
       "Torso                                                           0\n",
       "Fatal                                                           1\n",
       "No_Injury                                                       0\n",
       "Hoax                                                            0\n",
       "(6079, Year)                                                 1836\n",
       "Name: 6177, dtype: object"
      ]
     },
     "execution_count": 66,
     "metadata": {},
     "output_type": "execute_result"
    }
   ],
   "source": [
    "shark_attack.loc[6177, :]"
   ]
  },
  {
   "cell_type": "markdown",
   "metadata": {},
   "source": [
    "## Transform the values in column 'Year' into integers"
   ]
  },
  {
   "cell_type": "code",
   "execution_count": 67,
   "metadata": {},
   "outputs": [],
   "source": [
    "shark_attack['Year'] = shark_attack['Year'].astype(np.int64) "
   ]
  },
  {
   "cell_type": "code",
   "execution_count": 68,
   "metadata": {
    "scrolled": true
   },
   "outputs": [
    {
     "data": {
      "text/html": [
       "<div>\n",
       "<style scoped>\n",
       "    .dataframe tbody tr th:only-of-type {\n",
       "        vertical-align: middle;\n",
       "    }\n",
       "\n",
       "    .dataframe tbody tr th {\n",
       "        vertical-align: top;\n",
       "    }\n",
       "\n",
       "    .dataframe thead th {\n",
       "        text-align: right;\n",
       "    }\n",
       "</style>\n",
       "<table border=\"1\" class=\"dataframe\">\n",
       "  <thead>\n",
       "    <tr style=\"text-align: right;\">\n",
       "      <th></th>\n",
       "      <th>Case Number</th>\n",
       "      <th>Date</th>\n",
       "      <th>Year</th>\n",
       "      <th>Type</th>\n",
       "      <th>Country</th>\n",
       "      <th>Area</th>\n",
       "      <th>Location</th>\n",
       "      <th>Activity</th>\n",
       "      <th>Name</th>\n",
       "      <th>Sex</th>\n",
       "      <th>Age</th>\n",
       "      <th>Injury</th>\n",
       "      <th>Fatal (Y/N)</th>\n",
       "      <th>Time</th>\n",
       "      <th>Species</th>\n",
       "      <th>href</th>\n",
       "      <th>Arm</th>\n",
       "      <th>Leg</th>\n",
       "      <th>Head</th>\n",
       "      <th>Torso</th>\n",
       "      <th>Fatal</th>\n",
       "      <th>No_Injury</th>\n",
       "      <th>Hoax</th>\n",
       "      <th>(6079, Year)</th>\n",
       "    </tr>\n",
       "  </thead>\n",
       "  <tbody>\n",
       "    <tr>\n",
       "      <td>0</td>\n",
       "      <td>2018.06.25</td>\n",
       "      <td>25-Jun-2018</td>\n",
       "      <td>2018</td>\n",
       "      <td>Boating</td>\n",
       "      <td>United States</td>\n",
       "      <td>California</td>\n",
       "      <td>Oceanside, San Diego County</td>\n",
       "      <td>Paddling</td>\n",
       "      <td>Julie Wolfe</td>\n",
       "      <td>F</td>\n",
       "      <td>57</td>\n",
       "      <td>No injury to occupant, outrigger canoe and pad...</td>\n",
       "      <td>N</td>\n",
       "      <td>18h00</td>\n",
       "      <td>White shark</td>\n",
       "      <td>http://sharkattackfile.net/spreadsheets/pdf_di...</td>\n",
       "      <td>0</td>\n",
       "      <td>0</td>\n",
       "      <td>0</td>\n",
       "      <td>0</td>\n",
       "      <td>0</td>\n",
       "      <td>1</td>\n",
       "      <td>0</td>\n",
       "      <td>1836</td>\n",
       "    </tr>\n",
       "    <tr>\n",
       "      <td>1</td>\n",
       "      <td>2018.06.18</td>\n",
       "      <td>18-Jun-2018</td>\n",
       "      <td>2018</td>\n",
       "      <td>Unprovoked</td>\n",
       "      <td>United States</td>\n",
       "      <td>Georgia</td>\n",
       "      <td>St. Simon Island, Glynn County</td>\n",
       "      <td>Standing</td>\n",
       "      <td>Adyson McNeely</td>\n",
       "      <td>F</td>\n",
       "      <td>11</td>\n",
       "      <td>Minor injury to left thigh</td>\n",
       "      <td>N</td>\n",
       "      <td>14h00  -15h00</td>\n",
       "      <td>NaN</td>\n",
       "      <td>http://sharkattackfile.net/spreadsheets/pdf_di...</td>\n",
       "      <td>0</td>\n",
       "      <td>1</td>\n",
       "      <td>0</td>\n",
       "      <td>0</td>\n",
       "      <td>0</td>\n",
       "      <td>0</td>\n",
       "      <td>0</td>\n",
       "      <td>1836</td>\n",
       "    </tr>\n",
       "    <tr>\n",
       "      <td>2</td>\n",
       "      <td>2018.06.09</td>\n",
       "      <td>09-Jun-2018</td>\n",
       "      <td>2018</td>\n",
       "      <td>Invalid</td>\n",
       "      <td>United States</td>\n",
       "      <td>Hawaii</td>\n",
       "      <td>Habush, Oahu</td>\n",
       "      <td>Surfing</td>\n",
       "      <td>John Denges</td>\n",
       "      <td>M</td>\n",
       "      <td>48</td>\n",
       "      <td>Injury to left lower leg from surfboard skeg</td>\n",
       "      <td>N</td>\n",
       "      <td>07h45</td>\n",
       "      <td>NaN</td>\n",
       "      <td>http://sharkattackfile.net/spreadsheets/pdf_di...</td>\n",
       "      <td>0</td>\n",
       "      <td>1</td>\n",
       "      <td>0</td>\n",
       "      <td>0</td>\n",
       "      <td>0</td>\n",
       "      <td>0</td>\n",
       "      <td>0</td>\n",
       "      <td>1836</td>\n",
       "    </tr>\n",
       "    <tr>\n",
       "      <td>3</td>\n",
       "      <td>2018.06.08</td>\n",
       "      <td>08-Jun-2018</td>\n",
       "      <td>2018</td>\n",
       "      <td>Unprovoked</td>\n",
       "      <td>Australia</td>\n",
       "      <td>New South Wales</td>\n",
       "      <td>Arrawarra Headland</td>\n",
       "      <td>Surfing</td>\n",
       "      <td>male</td>\n",
       "      <td>M</td>\n",
       "      <td>NaN</td>\n",
       "      <td>Minor injury to lower leg</td>\n",
       "      <td>N</td>\n",
       "      <td>NaN</td>\n",
       "      <td>2 m shark</td>\n",
       "      <td>http://sharkattackfile.net/spreadsheets/pdf_di...</td>\n",
       "      <td>0</td>\n",
       "      <td>1</td>\n",
       "      <td>0</td>\n",
       "      <td>0</td>\n",
       "      <td>0</td>\n",
       "      <td>0</td>\n",
       "      <td>0</td>\n",
       "      <td>1836</td>\n",
       "    </tr>\n",
       "    <tr>\n",
       "      <td>4</td>\n",
       "      <td>2018.06.04</td>\n",
       "      <td>04-Jun-2018</td>\n",
       "      <td>2018</td>\n",
       "      <td>Provoked</td>\n",
       "      <td>Mexico</td>\n",
       "      <td>Colima</td>\n",
       "      <td>La Ticla</td>\n",
       "      <td>Free diving</td>\n",
       "      <td>Gustavo Ramos</td>\n",
       "      <td>M</td>\n",
       "      <td>NaN</td>\n",
       "      <td>Lacerations to leg &amp; hand shark PROVOKED INCIDENT</td>\n",
       "      <td>N</td>\n",
       "      <td>NaN</td>\n",
       "      <td>Tiger shark, 3m</td>\n",
       "      <td>http://sharkattackfile.net/spreadsheets/pdf_di...</td>\n",
       "      <td>1</td>\n",
       "      <td>1</td>\n",
       "      <td>0</td>\n",
       "      <td>0</td>\n",
       "      <td>0</td>\n",
       "      <td>0</td>\n",
       "      <td>0</td>\n",
       "      <td>1836</td>\n",
       "    </tr>\n",
       "  </tbody>\n",
       "</table>\n",
       "</div>"
      ],
      "text/plain": [
       "  Case Number         Date  Year        Type        Country             Area  \\\n",
       "0  2018.06.25  25-Jun-2018  2018     Boating  United States       California   \n",
       "1  2018.06.18  18-Jun-2018  2018  Unprovoked  United States          Georgia   \n",
       "2  2018.06.09  09-Jun-2018  2018     Invalid  United States           Hawaii   \n",
       "3  2018.06.08  08-Jun-2018  2018  Unprovoked      Australia  New South Wales   \n",
       "4  2018.06.04  04-Jun-2018  2018    Provoked         Mexico           Colima   \n",
       "\n",
       "                         Location     Activity             Name Sex  Age  \\\n",
       "0     Oceanside, San Diego County     Paddling      Julie Wolfe   F   57   \n",
       "1  St. Simon Island, Glynn County     Standing  Adyson McNeely    F   11   \n",
       "2                    Habush, Oahu      Surfing      John Denges   M   48   \n",
       "3              Arrawarra Headland      Surfing             male   M  NaN   \n",
       "4                        La Ticla  Free diving   Gustavo Ramos    M  NaN   \n",
       "\n",
       "                                              Injury Fatal (Y/N)  \\\n",
       "0  No injury to occupant, outrigger canoe and pad...           N   \n",
       "1                         Minor injury to left thigh           N   \n",
       "2       Injury to left lower leg from surfboard skeg           N   \n",
       "3                          Minor injury to lower leg           N   \n",
       "4  Lacerations to leg & hand shark PROVOKED INCIDENT           N   \n",
       "\n",
       "            Time         Species   \\\n",
       "0          18h00      White shark   \n",
       "1  14h00  -15h00              NaN   \n",
       "2          07h45              NaN   \n",
       "3            NaN        2 m shark   \n",
       "4            NaN  Tiger shark, 3m   \n",
       "\n",
       "                                                href  Arm  Leg  Head  Torso  \\\n",
       "0  http://sharkattackfile.net/spreadsheets/pdf_di...    0    0     0      0   \n",
       "1  http://sharkattackfile.net/spreadsheets/pdf_di...    0    1     0      0   \n",
       "2  http://sharkattackfile.net/spreadsheets/pdf_di...    0    1     0      0   \n",
       "3  http://sharkattackfile.net/spreadsheets/pdf_di...    0    1     0      0   \n",
       "4  http://sharkattackfile.net/spreadsheets/pdf_di...    1    1     0      0   \n",
       "\n",
       "   Fatal  No_Injury  Hoax  (6079, Year)  \n",
       "0      0          1     0          1836  \n",
       "1      0          0     0          1836  \n",
       "2      0          0     0          1836  \n",
       "3      0          0     0          1836  \n",
       "4      0          0     0          1836  "
      ]
     },
     "execution_count": 68,
     "metadata": {},
     "output_type": "execute_result"
    }
   ],
   "source": [
    "shark_attack.head()"
   ]
  },
  {
   "cell_type": "markdown",
   "metadata": {},
   "source": [
    "# How many deaths occurred when injured in the leg:"
   ]
  },
  {
   "cell_type": "markdown",
   "metadata": {},
   "source": [
    "## The most commom body part for the shark to attack is the leg (that includes: ankle, knee, foot thigh, leg, calf, buttock, pelvis, shin, heel and toe):"
   ]
  },
  {
   "cell_type": "code",
   "execution_count": 69,
   "metadata": {},
   "outputs": [],
   "source": [
    "max_attack = max([shark_attack['Leg'].sum(), shark_attack['Arm'].sum(), shark_attack['Head'].sum(), shark_attack['Torso'].sum()])"
   ]
  },
  {
   "cell_type": "code",
   "execution_count": 70,
   "metadata": {},
   "outputs": [
    {
     "name": "stdout",
     "output_type": "stream",
     "text": [
      "2628 attacks in the leg\n"
     ]
    }
   ],
   "source": [
    "print(f'{max_attack} attacks in the leg')"
   ]
  },
  {
   "cell_type": "code",
   "execution_count": 71,
   "metadata": {},
   "outputs": [],
   "source": [
    "deaths_by_body_part = shark_attack.groupby(by='Fatal (Y/N)').sum()"
   ]
  },
  {
   "cell_type": "code",
   "execution_count": 72,
   "metadata": {},
   "outputs": [],
   "source": [
    "leg_injuries = shark_attack['Leg'].sum()"
   ]
  },
  {
   "cell_type": "code",
   "execution_count": 73,
   "metadata": {},
   "outputs": [],
   "source": [
    "deaths_leg = deaths_by_body_part['Leg']['Y']\n",
    "perc = round((deaths_leg / leg_injuries) * 100, 2)"
   ]
  },
  {
   "cell_type": "code",
   "execution_count": 74,
   "metadata": {},
   "outputs": [
    {
     "name": "stdout",
     "output_type": "stream",
     "text": [
      "According to the results, 10.16% of people who were injured in the leg died.\n"
     ]
    }
   ],
   "source": [
    "print(f'According to the results, {perc}% of people who were injured in the leg died.')"
   ]
  }
 ],
 "metadata": {
  "kernelspec": {
   "display_name": "Python 3",
   "language": "python",
   "name": "python3"
  },
  "language_info": {
   "codemirror_mode": {
    "name": "ipython",
    "version": 3
   },
   "file_extension": ".py",
   "mimetype": "text/x-python",
   "name": "python",
   "nbconvert_exporter": "python",
   "pygments_lexer": "ipython3",
   "version": "3.7.4"
  },
  "toc": {
   "base_numbering": 1,
   "nav_menu": {},
   "number_sections": true,
   "sideBar": true,
   "skip_h1_title": false,
   "title_cell": "Table of Contents",
   "title_sidebar": "Contents",
   "toc_cell": false,
   "toc_position": {},
   "toc_section_display": true,
   "toc_window_display": false
  },
  "varInspector": {
   "cols": {
    "lenName": 16,
    "lenType": 16,
    "lenVar": 40
   },
   "kernels_config": {
    "python": {
     "delete_cmd_postfix": "",
     "delete_cmd_prefix": "del ",
     "library": "var_list.py",
     "varRefreshCmd": "print(var_dic_list())"
    },
    "r": {
     "delete_cmd_postfix": ") ",
     "delete_cmd_prefix": "rm(",
     "library": "var_list.r",
     "varRefreshCmd": "cat(var_dic_list()) "
    }
   },
   "types_to_exclude": [
    "module",
    "function",
    "builtin_function_or_method",
    "instance",
    "_Feature"
   ],
   "window_display": false
  }
 },
 "nbformat": 4,
 "nbformat_minor": 2
}
